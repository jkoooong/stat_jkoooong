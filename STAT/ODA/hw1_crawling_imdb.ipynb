{
 "cells": [
  {
   "cell_type": "code",
   "execution_count": 1,
   "metadata": {},
   "outputs": [],
   "source": [
    "### http://www.imdb.com/movies-in-theaters/?ref_=nv_tp_inth_1에서 \n",
    "###'In Theaters Now' 섹션에 포함된 영화들에 대해서, 각 영화의 Webpage에 나와 있는 정보들 중 아래 정보 를 수집하고\n",
    "###이를 텍스트 파일로 저장하시오 (관련 정보가 없는 경우에는 NA로 처리). \n",
    "\n",
    "# 제목\n",
    "# 평점\n",
    "# 평점 참가자 수\n",
    "# 장르 (화면에 표시된 모든 장르 정보)\n",
    "# 감독\n",
    "# 주연 배우 (2명 까지)\n",
    "# Metascore\\"
   ]
  },
  {
   "cell_type": "code",
   "execution_count": 3,
   "metadata": {},
   "outputs": [],
   "source": [
    "import requests\n",
    "from bs4 import BeautifulSoup\n",
    "import time"
   ]
  },
  {
   "cell_type": "code",
   "execution_count": 6,
   "metadata": {},
   "outputs": [],
   "source": [
    "url = 'https://www.imdb.com/movies-in-theaters/?ref_=nv_tp_inth_1'\n",
    "r = requests.get(url)\n",
    "html = r.text\n",
    "html_ITN = html.find('In Theaters Now')\n",
    "html_new = html[html_ITN:]\n",
    "soup = BeautifulSoup(html_new, 'lxml')"
   ]
  },
  {
   "cell_type": "code",
   "execution_count": 22,
   "metadata": {},
   "outputs": [],
   "source": [
    "with open('C:/1. Yonsei/fall 2018/OMA/hw1_2018321089.txt','w',encoding='utf8') as f:\n",
    "    for i in range(len(soup.find_all('td', attrs={'class':'overview-top'}))):\n",
    "        part_url=soup.find_all('td', attrs={'class':'overview-top'})[i].find('h4').a.get('href')\n",
    "        full_url='https://www.imdb.com' + part_url\n",
    "        r1=requests.get(full_url)\n",
    "        soup1=BeautifulSoup(r1.text,'lxml')\n",
    "        try:\n",
    "            movie_title=soup1.find('h1').text.strip()\n",
    "        except:\n",
    "            movie_title='NA'\n",
    "        try:\n",
    "            movie_rating=soup1.find('span',attrs={'itemprop':'ratingValue'}).text\n",
    "        except:\n",
    "            movie_rating='NA'\n",
    "        try:\n",
    "            count_rating=soup1.find('span',attrs={'itemprop':'ratingCount'}).text\n",
    "        except:\n",
    "            count_rating='NA'\n",
    "        try:\n",
    "            genre=''\n",
    "            g=soup1.find('div',attrs={'class':'subtext'}).find_all('a')\n",
    "            del g[-1]\n",
    "            for j in range(len(g)):\n",
    "                genre=genre+g[j].text\n",
    "            genre=genre.strip().replace('\\n',' &')\n",
    "        except:\n",
    "            genre='NA'\n",
    "        try:\n",
    "            director=''\n",
    "            d=soup1.find('div',attrs={'class':'credit_summary_item'}).find_all('a')\n",
    "            for j in range(len(d)):\n",
    "                director=director+d[j].text+' & '\n",
    "            director=director.strip(' & ')\n",
    "        except:\n",
    "            director='NA'\n",
    "        try:\n",
    "            main_actors=''\n",
    "            a=soup1.find_all('div',attrs={'class':'credit_summary_item'})[-1].find_all('a')[0:2]\n",
    "            for j in range(2):\n",
    "                main_actors=main_actors+a[j].text+' & '\n",
    "            main_actors=main_actors.strip(' & ')\n",
    "        except:\n",
    "            main_actors='NA'\n",
    "        try:\n",
    "            metascore=soup1.find('div',attrs={'class':'titleReviewBarItem'}).find('span').text\n",
    "        except:\n",
    "            metascore='NA'\n",
    "        content=',  '.join([movie_title,movie_rating,count_rating,genre,director,main_actors,metascore])\n",
    "        if(i==0):\n",
    "            f.write('    Title    .    Rating    .    Rating count    .    Genre    .    Directors    .    Main actors    .    Metascore\\n')\n",
    "            f.write('---------------------------------------------------------------------------------------------------------------------------------\\n')\n",
    "        f.write(content+'\\n')\n",
    "        time.sleep(1)\n",
    "f.close()"
   ]
  },
  {
   "cell_type": "code",
   "execution_count": null,
   "metadata": {},
   "outputs": [],
   "source": []
  }
 ],
 "metadata": {
  "kernelspec": {
   "display_name": "Python 3",
   "language": "python",
   "name": "python3"
  },
  "language_info": {
   "codemirror_mode": {
    "name": "ipython",
    "version": 3
   },
   "file_extension": ".py",
   "mimetype": "text/x-python",
   "name": "python",
   "nbconvert_exporter": "python",
   "pygments_lexer": "ipython3",
   "version": "3.7.0"
  }
 },
 "nbformat": 4,
 "nbformat_minor": 2
}
