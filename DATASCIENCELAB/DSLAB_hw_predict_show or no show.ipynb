{
 "cells": [
  {
   "cell_type": "code",
   "execution_count": 1,
   "metadata": {},
   "outputs": [],
   "source": [
    "import pandas as pd\n",
    "import numpy as np\n",
    "from datetime import date\n",
    "from sklearn.preprocessing import LabelEncoder\n",
    "import matplotlib.pyplot as plt\n",
    "import seaborn as sns\n",
    "from sklearn.model_selection import train_test_split\n",
    "from sklearn.linear_model import LogisticRegression,LogisticRegressionCV\n",
    "from sklearn.ensemble import RandomForestClassifier\n",
    "from sklearn.metrics import confusion_matrix, classification_report\n",
    "from sklearn.naive_bayes import MultinomialNB\n",
    "from sklearn.ensemble import GradientBoostingClassifier\n",
    "\n",
    "%matplotlib inline"
   ]
  },
  {
   "cell_type": "markdown",
   "metadata": {},
   "source": [
    "# Data Info."
   ]
  },
  {
   "cell_type": "code",
   "execution_count": 2,
   "metadata": {},
   "outputs": [
    {
     "data": {
      "text/html": [
       "<div>\n",
       "<style scoped>\n",
       "    .dataframe tbody tr th:only-of-type {\n",
       "        vertical-align: middle;\n",
       "    }\n",
       "\n",
       "    .dataframe tbody tr th {\n",
       "        vertical-align: top;\n",
       "    }\n",
       "\n",
       "    .dataframe thead th {\n",
       "        text-align: right;\n",
       "    }\n",
       "</style>\n",
       "<table border=\"1\" class=\"dataframe\">\n",
       "  <thead>\n",
       "    <tr style=\"text-align: right;\">\n",
       "      <th></th>\n",
       "      <th>Unnamed: 0</th>\n",
       "      <th>Gender</th>\n",
       "      <th>ScheduledDay</th>\n",
       "      <th>AppointmentDay</th>\n",
       "      <th>Age</th>\n",
       "      <th>Neighbourhood</th>\n",
       "      <th>Scholarship</th>\n",
       "      <th>Hipertension</th>\n",
       "      <th>Diabetes</th>\n",
       "      <th>Alcoholism</th>\n",
       "      <th>Handcap</th>\n",
       "      <th>SMS_received</th>\n",
       "      <th>No-show</th>\n",
       "    </tr>\n",
       "  </thead>\n",
       "  <tbody>\n",
       "    <tr>\n",
       "      <th>0</th>\n",
       "      <td>0</td>\n",
       "      <td>F</td>\n",
       "      <td>2016-06-07T11:31:19Z</td>\n",
       "      <td>2016-06-07T00:00:00Z</td>\n",
       "      <td>34.0</td>\n",
       "      <td>ILHA DO PRÍNCIPE</td>\n",
       "      <td>0.0</td>\n",
       "      <td>0.0</td>\n",
       "      <td>0.0</td>\n",
       "      <td>0.0</td>\n",
       "      <td>0.0</td>\n",
       "      <td>0.0</td>\n",
       "      <td>No</td>\n",
       "    </tr>\n",
       "    <tr>\n",
       "      <th>1</th>\n",
       "      <td>1</td>\n",
       "      <td>M</td>\n",
       "      <td>2016-05-12T17:36:32Z</td>\n",
       "      <td>2016-05-12T00:00:00Z</td>\n",
       "      <td>14.0</td>\n",
       "      <td>ILHA DO PRÍNCIPE</td>\n",
       "      <td>0.0</td>\n",
       "      <td>0.0</td>\n",
       "      <td>0.0</td>\n",
       "      <td>0.0</td>\n",
       "      <td>0.0</td>\n",
       "      <td>0.0</td>\n",
       "      <td>Yes</td>\n",
       "    </tr>\n",
       "    <tr>\n",
       "      <th>2</th>\n",
       "      <td>2</td>\n",
       "      <td>M</td>\n",
       "      <td>2016-05-30T09:01:57Z</td>\n",
       "      <td>2016-05-30T00:00:00Z</td>\n",
       "      <td>7.0</td>\n",
       "      <td>ILHA DO PRÍNCIPE</td>\n",
       "      <td>1.0</td>\n",
       "      <td>0.0</td>\n",
       "      <td>0.0</td>\n",
       "      <td>0.0</td>\n",
       "      <td>0.0</td>\n",
       "      <td>0.0</td>\n",
       "      <td>No</td>\n",
       "    </tr>\n",
       "    <tr>\n",
       "      <th>3</th>\n",
       "      <td>3</td>\n",
       "      <td>F</td>\n",
       "      <td>2016-05-24T11:57:40Z</td>\n",
       "      <td>2016-05-30T00:00:00Z</td>\n",
       "      <td>54.0</td>\n",
       "      <td>JESUS DE NAZARETH</td>\n",
       "      <td>1.0</td>\n",
       "      <td>1.0</td>\n",
       "      <td>1.0</td>\n",
       "      <td>0.0</td>\n",
       "      <td>1.0</td>\n",
       "      <td>1.0</td>\n",
       "      <td>Yes</td>\n",
       "    </tr>\n",
       "    <tr>\n",
       "      <th>4</th>\n",
       "      <td>4</td>\n",
       "      <td>F</td>\n",
       "      <td>2016-04-12T13:48:32Z</td>\n",
       "      <td>2016-05-02T00:00:00Z</td>\n",
       "      <td>6.0</td>\n",
       "      <td>MARIA ORTIZ</td>\n",
       "      <td>0.0</td>\n",
       "      <td>0.0</td>\n",
       "      <td>0.0</td>\n",
       "      <td>0.0</td>\n",
       "      <td>0.0</td>\n",
       "      <td>1.0</td>\n",
       "      <td>No</td>\n",
       "    </tr>\n",
       "  </tbody>\n",
       "</table>\n",
       "</div>"
      ],
      "text/plain": [
       "   Unnamed: 0 Gender          ScheduledDay        AppointmentDay   Age  \\\n",
       "0           0      F  2016-06-07T11:31:19Z  2016-06-07T00:00:00Z  34.0   \n",
       "1           1      M  2016-05-12T17:36:32Z  2016-05-12T00:00:00Z  14.0   \n",
       "2           2      M  2016-05-30T09:01:57Z  2016-05-30T00:00:00Z   7.0   \n",
       "3           3      F  2016-05-24T11:57:40Z  2016-05-30T00:00:00Z  54.0   \n",
       "4           4      F  2016-04-12T13:48:32Z  2016-05-02T00:00:00Z   6.0   \n",
       "\n",
       "       Neighbourhood  Scholarship  Hipertension  Diabetes  Alcoholism  \\\n",
       "0   ILHA DO PRÍNCIPE          0.0           0.0       0.0         0.0   \n",
       "1   ILHA DO PRÍNCIPE          0.0           0.0       0.0         0.0   \n",
       "2   ILHA DO PRÍNCIPE          1.0           0.0       0.0         0.0   \n",
       "3  JESUS DE NAZARETH          1.0           1.0       1.0         0.0   \n",
       "4        MARIA ORTIZ          0.0           0.0       0.0         0.0   \n",
       "\n",
       "   Handcap  SMS_received No-show  \n",
       "0      0.0           0.0      No  \n",
       "1      0.0           0.0     Yes  \n",
       "2      0.0           0.0      No  \n",
       "3      1.0           1.0     Yes  \n",
       "4      0.0           1.0      No  "
      ]
     },
     "execution_count": 2,
     "metadata": {},
     "output_type": "execute_result"
    }
   ],
   "source": [
    "df = pd.read_csv('C:/1. Yonsei/DSL/hw/train.csv')\n",
    "df.head()"
   ]
  },
  {
   "cell_type": "code",
   "execution_count": 3,
   "metadata": {},
   "outputs": [
    {
     "name": "stdout",
     "output_type": "stream",
     "text": [
      "(100527, 13)\n"
     ]
    }
   ],
   "source": [
    "print(df.shape)"
   ]
  },
  {
   "cell_type": "code",
   "execution_count": 4,
   "metadata": {},
   "outputs": [
    {
     "name": "stdout",
     "output_type": "stream",
     "text": [
      "<class 'pandas.core.frame.DataFrame'>\n",
      "RangeIndex: 100527 entries, 0 to 100526\n",
      "Data columns (total 13 columns):\n",
      "Unnamed: 0        100527 non-null int64\n",
      "Gender            99713 non-null object\n",
      "ScheduledDay      99675 non-null object\n",
      "AppointmentDay    99718 non-null object\n",
      "Age               99704 non-null float64\n",
      "Neighbourhood     99714 non-null object\n",
      "Scholarship       99718 non-null float64\n",
      "Hipertension      99682 non-null float64\n",
      "Diabetes          99742 non-null float64\n",
      "Alcoholism        99722 non-null float64\n",
      "Handcap           99682 non-null float64\n",
      "SMS_received      99716 non-null float64\n",
      "No-show           100527 non-null object\n",
      "dtypes: float64(7), int64(1), object(5)\n",
      "memory usage: 10.0+ MB\n"
     ]
    }
   ],
   "source": [
    "df.info()"
   ]
  },
  {
   "cell_type": "code",
   "execution_count": 5,
   "metadata": {},
   "outputs": [
    {
     "name": "stdout",
     "output_type": "stream",
     "text": [
      "Gender: ['F' 'M' nan]\n",
      "Scheduled_Day: ['2016-06-07T11:31:19Z' '2016-05-12T17:36:32Z' '2016-05-30T09:01:57Z' ...\n",
      " '2016-06-07T11:19:57Z' '2016-04-01T16:50:15Z' '2016-05-04T10:24:25Z']\n",
      "Appointment_Day: ['2016-06-07T00:00:00Z' '2016-05-12T00:00:00Z' '2016-05-30T00:00:00Z'\n",
      " '2016-05-02T00:00:00Z' '2016-05-17T00:00:00Z' '2016-06-03T00:00:00Z'\n",
      " '2016-06-02T00:00:00Z' '2016-05-11T00:00:00Z' '2016-06-08T00:00:00Z'\n",
      " '2016-05-05T00:00:00Z' '2016-06-01T00:00:00Z' '2016-06-06T00:00:00Z'\n",
      " '2016-05-04T00:00:00Z' '2016-05-06T00:00:00Z' '2016-05-20T00:00:00Z'\n",
      " '2016-05-09T00:00:00Z' '2016-05-19T00:00:00Z' '2016-04-29T00:00:00Z'\n",
      " '2016-05-31T00:00:00Z' '2016-05-03T00:00:00Z' '2016-05-24T00:00:00Z'\n",
      " '2016-05-10T00:00:00Z' '2016-05-25T00:00:00Z' '2016-05-18T00:00:00Z'\n",
      " '2016-05-16T00:00:00Z' nan '2016-05-13T00:00:00Z' '2016-05-14T00:00:00Z']\n",
      "Age: [-1.0, 0.0, 1.0, 2.0, 3.0, 4.0, 5.0, 6.0, 7.0, 8.0, 9.0, 10.0, 11.0, 12.0, 13.0, 14.0, 15.0, 16.0, 17.0, 18.0, 19.0, 20.0, 21.0, 22.0, 23.0, 24.0, 25.0, 26.0, 27.0, 28.0, 29.0, 30.0, 31.0, 32.0, 33.0, 34.0, 35.0, 36.0, 37.0, 38.0, 39.0, 40.0, 41.0, 42.0, 43.0, 44.0, 45.0, 46.0, 47.0, 48.0, 49.0, 50.0, 51.0, 52.0, 53.0, 54.0, 55.0, 56.0, 57.0, 58.0, 59.0, 60.0, 61.0, 62.0, 63.0, 64.0, 65.0, 66.0, 67.0, 68.0, 69.0, 70.0, 71.0, 72.0, 73.0, 74.0, 75.0, 76.0, 77.0, 78.0, 79.0, 81.0, 82.0, 83.0, 85.0, 89.0, nan, 80.0, 84.0, 86.0, 87.0, 88.0, 90.0, 91.0, 92.0, 93.0, 94.0, 95.0, 96.0, 97.0, 98.0, 99.0, 100.0, 102.0, 115.0]\n",
      "Neighborhood: ['ILHA DO PRÍNCIPE' 'JESUS DE NAZARETH' 'MARIA ORTIZ' 'JOANA D´ARC'\n",
      " 'SÃO BENEDITO' 'ANDORINHAS' 'SÃO JOSÉ' 'SANTA MARTHA' 'PRAIA DO CANTO'\n",
      " 'BELA VISTA' 'BONFIM' 'JARDIM CAMBURI' 'SANTOS DUMONT' 'TABUAZEIRO'\n",
      " 'JABOUR' 'ILHA DE SANTA MARIA' 'GURIGICA' 'COMDUSA' 'CRUZAMENTO'\n",
      " 'DE LOURDES' 'SANTO ANDRÉ' 'RESISTÊNCIA' 'SOLON BORGES' 'SÃO CRISTÓVÃO'\n",
      " 'BARRO VERMELHO' 'CONQUISTA' 'CONSOLAÇÃO' 'CARATOÍRA' 'PRAIA DO SUÁ'\n",
      " 'ROMÃO' 'SANTO ANTÔNIO' 'GRANDE VITÓRIA' 'MATA DA PRAIA' 'CENTRO'\n",
      " 'JARDIM DA PENHA' 'MARUÍPE' 'NOVA PALESTINA' 'SANTA TEREZA' 'BOA VISTA'\n",
      " 'MONTE BELO' 'SANTOS REIS' 'REPÚBLICA' 'SANTA CECÍLIA' 'MÁRIO CYPRESTE'\n",
      " 'DO QUADRO' 'REDENÇÃO' 'BENTO FERREIRA' 'ITARARÉ' 'PARQUE MOSCOSO'\n",
      " 'PIEDADE' 'DO MOSCOSO' 'SÃO PEDRO' 'DA PENHA' 'ESTRELINHA' 'GOIABEIRAS'\n",
      " 'SEGURANÇA DO LAR' 'ILHA DAS CAIEIRAS' 'SANTA LUÍZA' 'UNIVERSITÁRIO'\n",
      " 'FRADINHOS' 'INHANGUETÁ' 'VILA RUBIM' 'FORTE SÃO JOÃO'\n",
      " 'MORADA DE CAMBURI' 'FONTE GRANDE' 'JUCUTUQUARA' 'SANTA CLARA'\n",
      " 'ARIOVALDO FAVALESSA' nan 'DO CABRAL' 'SANTA LÚCIA' 'HORTO'\n",
      " 'ANTÔNIO HONÓRIO' 'SANTA HELENA' 'ENSEADA DO SUÁ' 'ILHA DO FRADE'\n",
      " 'NAZARETH' 'ILHA DO BOI' 'PONTAL DE CAMBURI' 'AEROPORTO'\n",
      " 'PARQUE INDUSTRIAL' 'ILHAS OCEÂNICAS DE TRINDADE']\n",
      "Scholarship: [ 0.  1. nan]\n",
      "Hypertension: [ 0.  1. nan]\n",
      "Diabetes: [ 0.  1. nan]\n",
      "Alcoholism: [ 0.  1. nan]\n",
      "Handicap: [ 0.  1. nan  2.  3.  4.]\n",
      "SMS_received: [ 0.  1. nan]\n"
     ]
    }
   ],
   "source": [
    "print('Gender:',df.Gender.unique())\n",
    "print('Scheduled_Day:',df.ScheduledDay.unique())\n",
    "print('Appointment_Day:',df.AppointmentDay.unique())\n",
    "print('Age:',sorted(df.Age.unique()))\n",
    "print('Neighborhood:',df.Neighbourhood.unique())\n",
    "print('Scholarship:',df.Scholarship.unique())\n",
    "print('Hypertension:',df.Hipertension.unique())\n",
    "print('Diabetes:',df.Diabetes.unique())\n",
    "print('Alcoholism:',df.Alcoholism.unique())\n",
    "print('Handicap:',df.Handcap.unique())\n",
    "print('SMS_received:',df.SMS_received.unique())"
   ]
  },
  {
   "cell_type": "markdown",
   "metadata": {},
   "source": [
    "# Data cleaning"
   ]
  },
  {
   "cell_type": "code",
   "execution_count": 6,
   "metadata": {},
   "outputs": [
    {
     "name": "stdout",
     "output_type": "stream",
     "text": [
      "<class 'pandas.core.frame.DataFrame'>\n",
      "Int64Index: 91876 entries, 0 to 100526\n",
      "Data columns (total 17 columns):\n",
      "unnamed: 0             91876 non-null int64\n",
      "gender                 91876 non-null int64\n",
      "scheduled_day          91876 non-null datetime64[ns]\n",
      "appointment_day        91876 non-null datetime64[ns]\n",
      "age                    91876 non-null float64\n",
      "neighborhood           91876 non-null object\n",
      "scholarship            91876 non-null float64\n",
      "hypertension           91876 non-null float64\n",
      "diabetes               91876 non-null float64\n",
      "alcoholism             91876 non-null float64\n",
      "handicap               91876 non-null float64\n",
      "sms_received           91876 non-null float64\n",
      "no_show                91876 non-null int64\n",
      "neighborhood_enc       91876 non-null int64\n",
      "until_show             91876 non-null float64\n",
      "appointment_weekday    91876 non-null int64\n",
      "scheduled_weekday      91876 non-null int64\n",
      "dtypes: datetime64[ns](2), float64(8), int64(6), object(1)\n",
      "memory usage: 12.6+ MB\n"
     ]
    }
   ],
   "source": [
    "# renaming column names\n",
    "df.rename(columns=lambda x: x.lower(), inplace=True)\n",
    "df.rename(columns={'scheduledday':'scheduled_day','neighbourhood':'neighborhood','appointmentday':'appointment_day',\n",
    "                   'hipertension':'hypertension','handcap':'handicap','no-show':'no_show'}, inplace=True)\n",
    "\n",
    "# dropping data which contains missing value.\n",
    "df2 = df.dropna()\n",
    "\n",
    "# cleaning data: age\n",
    "df2 = df2[df2.age>=0]\n",
    "\n",
    "# changing the form of time data: scheduled_day, appointment_day\n",
    "df2['scheduled_day'] = pd.to_datetime(df2['scheduled_day'])\n",
    "df2['appointment_day'] = pd.to_datetime(df2['appointment_day'])\n",
    "\n",
    "# Mapping the gender to numeric categorical values.\n",
    "# Mapping 'no-show' to numeric categorical values.\n",
    "df2['gender'] = df2['gender'].map({'F': 0, 'M': 1})\n",
    "df2['no_show'] = df2['no_show'].map({'No': 1, 'Yes': 0})\n",
    "\n",
    "# Encoding the neighborhood column into numeric values\n",
    "encoder_neighborhood = LabelEncoder()\n",
    "df2['neighborhood_enc'] = encoder_neighborhood.fit_transform(df2['neighborhood'])\n",
    "\n",
    "# Making new variables - until_show, appointment_weekday, scheduled_weekday\n",
    "df2['until_show'] = df2['appointment_day'] - df2['scheduled_day']\n",
    "df2['until_show'] = df2['until_show'].astype('timedelta64[D]')\n",
    "df2['until_show'] = np.where(df2['until_show'] < 0, 0, df2['until_show'])\n",
    "\n",
    "df2['appointment_weekday'] = df2['appointment_day'].dt.weekday_name\n",
    "df2['scheduled_weekday'] = df2['scheduled_day'].dt.weekday_name\n",
    "\n",
    "# Mapping 'appointment_weekday' to numeric categorical values.\n",
    "# Mapping 'scheduled_weekday' to numeric categorical values.\n",
    "df2['appointment_weekday'] = df2['appointment_weekday'].map({'Monday':0,'Tuesday':1,'Wednesday':2,'Thursday':3,'Friday':4,'Saturday':5})\n",
    "df2['scheduled_weekday'] = df2['scheduled_weekday'].map({'Monday':0,'Tuesday':1,'Wednesday':2,'Thursday':3,'Friday':4,'Saturday':5 })\n",
    "\n",
    "df2.info()"
   ]
  },
  {
   "cell_type": "code",
   "execution_count": 7,
   "metadata": {},
   "outputs": [
    {
     "data": {
      "text/html": [
       "<div>\n",
       "<style scoped>\n",
       "    .dataframe tbody tr th:only-of-type {\n",
       "        vertical-align: middle;\n",
       "    }\n",
       "\n",
       "    .dataframe tbody tr th {\n",
       "        vertical-align: top;\n",
       "    }\n",
       "\n",
       "    .dataframe thead th {\n",
       "        text-align: right;\n",
       "    }\n",
       "</style>\n",
       "<table border=\"1\" class=\"dataframe\">\n",
       "  <thead>\n",
       "    <tr style=\"text-align: right;\">\n",
       "      <th></th>\n",
       "      <th>gender</th>\n",
       "      <th>age</th>\n",
       "      <th>neighborhood_enc</th>\n",
       "      <th>scholarship</th>\n",
       "      <th>hypertension</th>\n",
       "      <th>diabetes</th>\n",
       "      <th>alcoholism</th>\n",
       "      <th>handicap</th>\n",
       "      <th>sms_received</th>\n",
       "      <th>until_show</th>\n",
       "      <th>appointment_weekday</th>\n",
       "      <th>scheduled_weekday</th>\n",
       "      <th>no_show</th>\n",
       "    </tr>\n",
       "  </thead>\n",
       "  <tbody>\n",
       "    <tr>\n",
       "      <th>0</th>\n",
       "      <td>0</td>\n",
       "      <td>34.0</td>\n",
       "      <td>33</td>\n",
       "      <td>0.0</td>\n",
       "      <td>0.0</td>\n",
       "      <td>0.0</td>\n",
       "      <td>0.0</td>\n",
       "      <td>0.0</td>\n",
       "      <td>0.0</td>\n",
       "      <td>0.0</td>\n",
       "      <td>1</td>\n",
       "      <td>1</td>\n",
       "      <td>1</td>\n",
       "    </tr>\n",
       "    <tr>\n",
       "      <th>1</th>\n",
       "      <td>1</td>\n",
       "      <td>14.0</td>\n",
       "      <td>33</td>\n",
       "      <td>0.0</td>\n",
       "      <td>0.0</td>\n",
       "      <td>0.0</td>\n",
       "      <td>0.0</td>\n",
       "      <td>0.0</td>\n",
       "      <td>0.0</td>\n",
       "      <td>0.0</td>\n",
       "      <td>3</td>\n",
       "      <td>3</td>\n",
       "      <td>0</td>\n",
       "    </tr>\n",
       "    <tr>\n",
       "      <th>2</th>\n",
       "      <td>1</td>\n",
       "      <td>7.0</td>\n",
       "      <td>33</td>\n",
       "      <td>1.0</td>\n",
       "      <td>0.0</td>\n",
       "      <td>0.0</td>\n",
       "      <td>0.0</td>\n",
       "      <td>0.0</td>\n",
       "      <td>0.0</td>\n",
       "      <td>0.0</td>\n",
       "      <td>0</td>\n",
       "      <td>0</td>\n",
       "      <td>1</td>\n",
       "    </tr>\n",
       "    <tr>\n",
       "      <th>3</th>\n",
       "      <td>0</td>\n",
       "      <td>54.0</td>\n",
       "      <td>40</td>\n",
       "      <td>1.0</td>\n",
       "      <td>1.0</td>\n",
       "      <td>1.0</td>\n",
       "      <td>0.0</td>\n",
       "      <td>1.0</td>\n",
       "      <td>1.0</td>\n",
       "      <td>5.0</td>\n",
       "      <td>0</td>\n",
       "      <td>1</td>\n",
       "      <td>0</td>\n",
       "    </tr>\n",
       "    <tr>\n",
       "      <th>4</th>\n",
       "      <td>0</td>\n",
       "      <td>6.0</td>\n",
       "      <td>43</td>\n",
       "      <td>0.0</td>\n",
       "      <td>0.0</td>\n",
       "      <td>0.0</td>\n",
       "      <td>0.0</td>\n",
       "      <td>0.0</td>\n",
       "      <td>1.0</td>\n",
       "      <td>19.0</td>\n",
       "      <td>0</td>\n",
       "      <td>1</td>\n",
       "      <td>1</td>\n",
       "    </tr>\n",
       "  </tbody>\n",
       "</table>\n",
       "</div>"
      ],
      "text/plain": [
       "   gender   age  neighborhood_enc  scholarship  hypertension  diabetes  \\\n",
       "0       0  34.0                33          0.0           0.0       0.0   \n",
       "1       1  14.0                33          0.0           0.0       0.0   \n",
       "2       1   7.0                33          1.0           0.0       0.0   \n",
       "3       0  54.0                40          1.0           1.0       1.0   \n",
       "4       0   6.0                43          0.0           0.0       0.0   \n",
       "\n",
       "   alcoholism  handicap  sms_received  until_show  appointment_weekday  \\\n",
       "0         0.0       0.0           0.0         0.0                    1   \n",
       "1         0.0       0.0           0.0         0.0                    3   \n",
       "2         0.0       0.0           0.0         0.0                    0   \n",
       "3         0.0       1.0           1.0         5.0                    0   \n",
       "4         0.0       0.0           1.0        19.0                    0   \n",
       "\n",
       "   scheduled_weekday  no_show  \n",
       "0                  1        1  \n",
       "1                  3        0  \n",
       "2                  0        1  \n",
       "3                  1        0  \n",
       "4                  1        1  "
      ]
     },
     "execution_count": 7,
     "metadata": {},
     "output_type": "execute_result"
    }
   ],
   "source": [
    "# dropping unwanted cloumns: unnamed, scheduled_day, appointment_day, neighborhood\n",
    "# Making new dataframe\n",
    "df3 = df2[['gender', 'age', 'neighborhood_enc', 'scholarship', 'hypertension','diabetes', 'alcoholism', 'handicap', \n",
    "           'sms_received','until_show','appointment_weekday','scheduled_weekday','no_show']]\n",
    "\n",
    "df3.head()"
   ]
  },
  {
   "cell_type": "markdown",
   "metadata": {},
   "source": [
    "# EDA"
   ]
  },
  {
   "cell_type": "code",
   "execution_count": 8,
   "metadata": {},
   "outputs": [
    {
     "data": {
      "text/plain": [
       "<matplotlib.axes._subplots.AxesSubplot at 0xadd309dd68>"
      ]
     },
     "execution_count": 8,
     "metadata": {},
     "output_type": "execute_result"
    },
    {
     "data": {
      "image/png": "[encoded data removed]",
      "text/plain": [
       "<Figure size 432x288 with 1 Axes>"
      ]
     },
     "metadata": {},
     "output_type": "display_data"
    }
   ],
   "source": [
    "sns.set_style('whitegrid')\n",
    "sns.countplot(x='no_show', data=df3) # no_show:0_YES, 1_NO"
   ]
  },
  {
   "cell_type": "code",
   "execution_count": 9,
   "metadata": {},
   "outputs": [
    {
     "data": {
      "text/plain": [
       "<matplotlib.axes._subplots.AxesSubplot at 0xadd34e80b8>"
      ]
     },
     "execution_count": 9,
     "metadata": {},
     "output_type": "execute_result"
    },
    {
     "data": {
      "image/png": "[encoded data removed]",
      "text/plain": [
       "<Figure size 432x288 with 1 Axes>"
      ]
     },
     "metadata": {},
     "output_type": "display_data"
    }
   ],
   "source": [
    "sns.countplot(x='no_show', hue='gender', data=df3, palette='rainbow_r')\n",
    "# no_show : 0_YES, 1_NO\n",
    "# gender : 0_Female, 1_Male"
   ]
  },
  {
   "cell_type": "code",
   "execution_count": 10,
   "metadata": {},
   "outputs": [
    {
     "data": {
      "text/plain": [
       "<matplotlib.axes._subplots.AxesSubplot at 0xadd3980ef0>"
      ]
     },
     "execution_count": 10,
     "metadata": {},
     "output_type": "execute_result"
    },
    {
     "data": {
      "image/png": "[encoded data removed]",
      "text/plain": [
       "<Figure size 432x288 with 1 Axes>"
      ]
     },
     "metadata": {},
     "output_type": "display_data"
    }
   ],
   "source": [
    "sns.countplot(x='appointment_weekday', data=df3, hue='no_show', palette='Set1')\n",
    "# no_show : 0_YES, 1_NO\n",
    "# appointment_weekday : 0_Mon, 1_Tue, 2_Wed, 3_Thr, 4_Fri, 5_Sat"
   ]
  },
  {
   "cell_type": "code",
   "execution_count": 11,
   "metadata": {},
   "outputs": [
    {
     "data": {
      "text/plain": [
       "<matplotlib.axes._subplots.AxesSubplot at 0xadd3f72a58>"
      ]
     },
     "execution_count": 11,
     "metadata": {},
     "output_type": "execute_result"
    },
    {
     "data": {
      "image/png": "[encoded data removed]",
      "text/plain": [
       "<Figure size 432x288 with 1 Axes>"
      ]
     },
     "metadata": {},
     "output_type": "display_data"
    }
   ],
   "source": [
    "sns.barplot(x='appointment_weekday', y='no_show', hue='alcoholism', data=df3, palette='Set1')\n",
    "# no_show : 0_YES, 1_NO\n",
    "# appointment_weekday : 0_Mon, 1_Tue, 2_Wed, 3_Thr, 4_Fri, 5_Sat"
   ]
  },
  {
   "cell_type": "code",
   "execution_count": 12,
   "metadata": {},
   "outputs": [
    {
     "data": {
      "text/plain": [
       "<matplotlib.axes._subplots.AxesSubplot at 0xadd400bb00>"
      ]
     },
     "execution_count": 12,
     "metadata": {},
     "output_type": "execute_result"
    },
    {
     "data": {
      "image/png": "[encoded data removed]",
      "text/plain": [
       "<Figure size 432x288 with 1 Axes>"
      ]
     },
     "metadata": {},
     "output_type": "display_data"
    }
   ],
   "source": [
    "sns.barplot(x='scheduled_weekday', y='no_show', hue='alcoholism', data=df3, palette='hls')\n",
    "# no_show : 0_YES, 1_NO\n",
    "# scheduled_weekday : 0_Mon, 1_Tue, 2_Wed, 3_Thr, 4_Fri, 5_Sat"
   ]
  },
  {
   "cell_type": "code",
   "execution_count": 13,
   "metadata": {},
   "outputs": [
    {
     "data": {
      "text/plain": [
       "<matplotlib.axes._subplots.AxesSubplot at 0xadd3ffa048>"
      ]
     },
     "execution_count": 13,
     "metadata": {},
     "output_type": "execute_result"
    },
    {
     "data": {
      "image/png": "[encoded data removed]",
      "text/plain": [
       "<Figure size 432x288 with 1 Axes>"
      ]
     },
     "metadata": {},
     "output_type": "display_data"
    }
   ],
   "source": [
    "sns.violinplot(x='no_show', y='until_show', data=df3) # no_show : 0_YES, 1_NO"
   ]
  },
  {
   "cell_type": "code",
   "execution_count": 14,
   "metadata": {},
   "outputs": [
    {
     "data": {
      "text/plain": [
       "<matplotlib.axes._subplots.AxesSubplot at 0xadd4c82e48>"
      ]
     },
     "execution_count": 14,
     "metadata": {},
     "output_type": "execute_result"
    },
    {
     "data": {
      "image/png": "[encoded data removed]",
      "text/plain": [
       "<Figure size 432x288 with 1 Axes>"
      ]
     },
     "metadata": {},
     "output_type": "display_data"
    }
   ],
   "source": [
    "sns.barplot(x='scholarship', y='no_show', data=df3, palette='coolwarm') # no_show : 0_YES, 1_NO"
   ]
  },
  {
   "cell_type": "code",
   "execution_count": 15,
   "metadata": {},
   "outputs": [
    {
     "data": {
      "text/plain": [
       "<matplotlib.axes._subplots.AxesSubplot at 0xadd4cd6a20>"
      ]
     },
     "execution_count": 15,
     "metadata": {},
     "output_type": "execute_result"
    },
    {
     "data": {
      "image/png": "[encoded data removed]",
      "text/plain": [
       "<Figure size 432x288 with 1 Axes>"
      ]
     },
     "metadata": {},
     "output_type": "display_data"
    }
   ],
   "source": [
    "sns.countplot(x='no_show', hue='hypertension', data=df3, palette='Paired') # no_show : 0_YES, 1_NO"
   ]
  },
  {
   "cell_type": "code",
   "execution_count": 16,
   "metadata": {},
   "outputs": [
    {
     "data": {
      "text/plain": [
       "<matplotlib.axes._subplots.AxesSubplot at 0xadd4d369e8>"
      ]
     },
     "execution_count": 16,
     "metadata": {},
     "output_type": "execute_result"
    },
    {
     "data": {
      "image/png": "[encoded data removed]",
      "text/plain": [
       "<Figure size 432x288 with 1 Axes>"
      ]
     },
     "metadata": {},
     "output_type": "display_data"
    }
   ],
   "source": [
    "sns.countplot(x='no_show', hue='diabetes', data=df3, palette='Paired')# no_show : 0_YES, 1_NO"
   ]
  },
  {
   "cell_type": "code",
   "execution_count": 17,
   "metadata": {},
   "outputs": [
    {
     "data": {
      "text/plain": [
       "<matplotlib.axes._subplots.AxesSubplot at 0xadd4d8b9e8>"
      ]
     },
     "execution_count": 17,
     "metadata": {},
     "output_type": "execute_result"
    },
    {
     "data": {
      "image/png": "[encoded data removed]",
      "text/plain": [
       "<Figure size 432x288 with 1 Axes>"
      ]
     },
     "metadata": {},
     "output_type": "display_data"
    }
   ],
   "source": [
    "sns.countplot(x='no_show', hue='alcoholism', data=df3, palette='cubehelix')# no_show : 0_YES, 1_NO"
   ]
  },
  {
   "cell_type": "code",
   "execution_count": 18,
   "metadata": {},
   "outputs": [
    {
     "data": {
      "text/plain": [
       "<matplotlib.axes._subplots.AxesSubplot at 0xadd4d21e80>"
      ]
     },
     "execution_count": 18,
     "metadata": {},
     "output_type": "execute_result"
    },
    {
     "data": {
      "image/png": "[encoded data removed]",
      "text/plain": [
       "<Figure size 432x288 with 1 Axes>"
      ]
     },
     "metadata": {},
     "output_type": "display_data"
    }
   ],
   "source": [
    "sns.barplot(x='alcoholism', y='no_show', data=df3, palette='cubehelix')# no_show : 0_YES, 1_NO"
   ]
  },
  {
   "cell_type": "code",
   "execution_count": 19,
   "metadata": {},
   "outputs": [
    {
     "data": {
      "text/plain": [
       "<matplotlib.axes._subplots.AxesSubplot at 0xadd4d19f60>"
      ]
     },
     "execution_count": 19,
     "metadata": {},
     "output_type": "execute_result"
    },
    {
     "data": {
      "image/png": "[encoded data removed]",
      "text/plain": [
       "<Figure size 432x288 with 1 Axes>"
      ]
     },
     "metadata": {},
     "output_type": "display_data"
    }
   ],
   "source": [
    "sns.countplot(x='no_show', hue='handicap', data=df3, palette='Set3')# no_show : 0_YES, 1_NO"
   ]
  },
  {
   "cell_type": "code",
   "execution_count": 20,
   "metadata": {},
   "outputs": [
    {
     "data": {
      "text/plain": [
       "<matplotlib.axes._subplots.AxesSubplot at 0xadd4de2be0>"
      ]
     },
     "execution_count": 20,
     "metadata": {},
     "output_type": "execute_result"
    },
    {
     "data": {
      "image/png": "[encoded data removed]",
      "text/plain": [
       "<Figure size 432x288 with 1 Axes>"
      ]
     },
     "metadata": {},
     "output_type": "display_data"
    }
   ],
   "source": [
    "sns.barplot(x='handicap', y='no_show', data=df3, palette='Set3')# no_show : 0_YES, 1_NO"
   ]
  },
  {
   "cell_type": "code",
   "execution_count": 21,
   "metadata": {},
   "outputs": [
    {
     "data": {
      "text/plain": [
       "<matplotlib.axes._subplots.AxesSubplot at 0xadcd716860>"
      ]
     },
     "execution_count": 21,
     "metadata": {},
     "output_type": "execute_result"
    },
    {
     "data": {
      "image/png": "[encoded data removed]",
      "text/plain": [
       "<Figure size 432x288 with 1 Axes>"
      ]
     },
     "metadata": {},
     "output_type": "display_data"
    }
   ],
   "source": [
    "sns.countplot(x='no_show', hue='sms_received', data=df3, palette='rainbow')# no_show : 0_YES, 1_NO"
   ]
  },
  {
   "cell_type": "code",
   "execution_count": 22,
   "metadata": {},
   "outputs": [
    {
     "data": {
      "text/plain": [
       "<matplotlib.axes._subplots.AxesSubplot at 0xadcd776cf8>"
      ]
     },
     "execution_count": 22,
     "metadata": {},
     "output_type": "execute_result"
    },
    {
     "data": {
      "image/png": "[encoded data removed]",
      "text/plain": [
       "<Figure size 432x288 with 1 Axes>"
      ]
     },
     "metadata": {},
     "output_type": "display_data"
    }
   ],
   "source": [
    "sns.barplot(x='sms_received', y='no_show', data=df3, palette='rainbow')# no_show : 0_YES, 1_NO"
   ]
  },
  {
   "cell_type": "code",
   "execution_count": 23,
   "metadata": {},
   "outputs": [
    {
     "data": {
      "text/plain": [
       "<matplotlib.axes._subplots.AxesSubplot at 0xadcd7c3ef0>"
      ]
     },
     "execution_count": 23,
     "metadata": {},
     "output_type": "execute_result"
    },
    {
     "data": {
      "image/png": "[encoded data removed]",
      "text/plain": [
       "<Figure size 432x288 with 1 Axes>"
      ]
     },
     "metadata": {},
     "output_type": "display_data"
    }
   ],
   "source": [
    "sns.violinplot(x='no_show', y='age', data=df3, palette='coolwarm')# no_show : 0_YES, 1_NO"
   ]
  },
  {
   "cell_type": "markdown",
   "metadata": {},
   "source": [
    "# Predicting Show or no-show"
   ]
  },
  {
   "cell_type": "markdown",
   "metadata": {},
   "source": [
    "### dividing data into two groups: train & test"
   ]
  },
  {
   "cell_type": "code",
   "execution_count": 24,
   "metadata": {},
   "outputs": [],
   "source": [
    "x = df3[df3.columns[:-1]]\n",
    "y = pd.DataFrame(df3[df3.columns[-1]]) #no-show\n",
    "\n",
    "x_train, x_test, y_train, y_test = train_test_split(x, y, test_size=0.3, random_state=101)"
   ]
  },
  {
   "cell_type": "markdown",
   "metadata": {},
   "source": [
    "### #1 Using Logistic Regression to predict no-show"
   ]
  },
  {
   "cell_type": "code",
   "execution_count": 25,
   "metadata": {},
   "outputs": [
    {
     "data": {
      "text/plain": [
       "LogisticRegression(C=10000000000.0, class_weight='balanced', dual=False,\n",
       "          fit_intercept=True, intercept_scaling=1, max_iter=100,\n",
       "          multi_class='ovr', n_jobs=1, penalty='l2', random_state=None,\n",
       "          solver='liblinear', tol=0.0001, verbose=0, warm_start=False)"
      ]
     },
     "execution_count": 25,
     "metadata": {},
     "output_type": "execute_result"
    }
   ],
   "source": [
    "lr = LogisticRegression(C=1e10,class_weight='balanced')\n",
    "lr.fit(x_train, np.ravel(y_train))"
   ]
  },
  {
   "cell_type": "code",
   "execution_count": 26,
   "metadata": {},
   "outputs": [
    {
     "data": {
      "text/plain": [
       "0.6685411602510613"
      ]
     },
     "execution_count": 26,
     "metadata": {},
     "output_type": "execute_result"
    }
   ],
   "source": [
    "lr.score(x_test, y_test)"
   ]
  },
  {
   "cell_type": "code",
   "execution_count": 27,
   "metadata": {},
   "outputs": [
    {
     "name": "stdout",
     "output_type": "stream",
     "text": [
      "[[ 3027  2498]\n",
      " [ 6638 15400]]\n",
      "             precision    recall  f1-score   support\n",
      "\n",
      "          0       0.31      0.55      0.40      5525\n",
      "          1       0.86      0.70      0.77     22038\n",
      "\n",
      "avg / total       0.75      0.67      0.70     27563\n",
      "\n"
     ]
    }
   ],
   "source": [
    "predictions = lr.predict(x_test)\n",
    "\n",
    "print(confusion_matrix(y_test, predictions))\n",
    "print(classification_report(y_test, predictions))"
   ]
  },
  {
   "cell_type": "markdown",
   "metadata": {},
   "source": [
    "### #2 Using RF"
   ]
  },
  {
   "cell_type": "code",
   "execution_count": 28,
   "metadata": {},
   "outputs": [
    {
     "data": {
      "text/plain": [
       "RandomForestClassifier(bootstrap=True, class_weight=None, criterion='gini',\n",
       "            max_depth=None, max_features='auto', max_leaf_nodes=None,\n",
       "            min_impurity_decrease=0.0, min_impurity_split=None,\n",
       "            min_samples_leaf=1, min_samples_split=2,\n",
       "            min_weight_fraction_leaf=0.0, n_estimators=200, n_jobs=1,\n",
       "            oob_score=False, random_state=None, verbose=0,\n",
       "            warm_start=False)"
      ]
     },
     "execution_count": 28,
     "metadata": {},
     "output_type": "execute_result"
    }
   ],
   "source": [
    "rfc = RandomForestClassifier(n_estimators=200)\n",
    "rfc.fit(x_train, np.ravel(y_train))"
   ]
  },
  {
   "cell_type": "code",
   "execution_count": 29,
   "metadata": {},
   "outputs": [
    {
     "data": {
      "text/plain": [
       "0.7781446141566593"
      ]
     },
     "execution_count": 29,
     "metadata": {},
     "output_type": "execute_result"
    }
   ],
   "source": [
    "rfc.score(x_test, y_test)"
   ]
  },
  {
   "cell_type": "code",
   "execution_count": 30,
   "metadata": {},
   "outputs": [
    {
     "name": "stdout",
     "output_type": "stream",
     "text": [
      "[[ 1042  4483]\n",
      " [ 1632 20406]]\n",
      "             precision    recall  f1-score   support\n",
      "\n",
      "          0       0.39      0.19      0.25      5525\n",
      "          1       0.82      0.93      0.87     22038\n",
      "\n",
      "avg / total       0.73      0.78      0.75     27563\n",
      "\n"
     ]
    }
   ],
   "source": [
    "predictions = rfc.predict(x_test)\n",
    "\n",
    "print(confusion_matrix(y_test, predictions))\n",
    "print(classification_report(y_test, predictions))"
   ]
  },
  {
   "cell_type": "markdown",
   "metadata": {},
   "source": [
    "### #3 Using Naive bayes Classifier"
   ]
  },
  {
   "cell_type": "code",
   "execution_count": 31,
   "metadata": {},
   "outputs": [
    {
     "data": {
      "text/plain": [
       "MultinomialNB(alpha=1.0, class_prior=None, fit_prior=True)"
      ]
     },
     "execution_count": 31,
     "metadata": {},
     "output_type": "execute_result"
    }
   ],
   "source": [
    "nbc = MultinomialNB()\n",
    "nbc.fit(x_train, np.ravel(y_train))"
   ]
  },
  {
   "cell_type": "code",
   "execution_count": 32,
   "metadata": {},
   "outputs": [
    {
     "data": {
      "text/plain": [
       "0.7099372346986903"
      ]
     },
     "execution_count": 32,
     "metadata": {},
     "output_type": "execute_result"
    }
   ],
   "source": [
    "nbc.score(x_test, y_test)"
   ]
  },
  {
   "cell_type": "code",
   "execution_count": 33,
   "metadata": {},
   "outputs": [
    {
     "name": "stdout",
     "output_type": "stream",
     "text": [
      "[[ 2420  3105]\n",
      " [ 4890 17148]]\n",
      "             precision    recall  f1-score   support\n",
      "\n",
      "          0       0.33      0.44      0.38      5525\n",
      "          1       0.85      0.78      0.81     22038\n",
      "\n",
      "avg / total       0.74      0.71      0.72     27563\n",
      "\n"
     ]
    }
   ],
   "source": [
    "predictions = nbc.predict(x_test)\n",
    "\n",
    "print(confusion_matrix(y_test, predictions))\n",
    "print(classification_report(y_test, predictions))"
   ]
  },
  {
   "cell_type": "markdown",
   "metadata": {},
   "source": [
    "### #4 Using gradient boosting classifier"
   ]
  },
  {
   "cell_type": "code",
   "execution_count": 34,
   "metadata": {},
   "outputs": [
    {
     "data": {
      "text/plain": [
       "GradientBoostingClassifier(criterion='friedman_mse', init=None,\n",
       "              learning_rate=0.1, loss='deviance', max_depth=3,\n",
       "              max_features=None, max_leaf_nodes=None,\n",
       "              min_impurity_decrease=0.0, min_impurity_split=None,\n",
       "              min_samples_leaf=1, min_samples_split=2,\n",
       "              min_weight_fraction_leaf=0.0, n_estimators=100,\n",
       "              presort='auto', random_state=None, subsample=1.0, verbose=0,\n",
       "              warm_start=False)"
      ]
     },
     "execution_count": 34,
     "metadata": {},
     "output_type": "execute_result"
    }
   ],
   "source": [
    "gbc = GradientBoostingClassifier()\n",
    "gbc.fit(x_train, np.ravel(y_train))"
   ]
  },
  {
   "cell_type": "code",
   "execution_count": 35,
   "metadata": {},
   "outputs": [
    {
     "data": {
      "text/plain": [
       "0.7994775604977687"
      ]
     },
     "execution_count": 35,
     "metadata": {},
     "output_type": "execute_result"
    }
   ],
   "source": [
    "gbc.score(x_test, y_test)"
   ]
  },
  {
   "cell_type": "code",
   "execution_count": 36,
   "metadata": {},
   "outputs": [
    {
     "name": "stdout",
     "output_type": "stream",
     "text": [
      "[[   28  5497]\n",
      " [   30 22008]]\n",
      "             precision    recall  f1-score   support\n",
      "\n",
      "          0       0.48      0.01      0.01      5525\n",
      "          1       0.80      1.00      0.89     22038\n",
      "\n",
      "avg / total       0.74      0.80      0.71     27563\n",
      "\n"
     ]
    }
   ],
   "source": [
    "predictions = gbc.predict(x_test)\n",
    "\n",
    "print(confusion_matrix(y_test, predictions))\n",
    "print(classification_report(y_test, predictions))"
   ]
  },
  {
   "cell_type": "markdown",
   "metadata": {},
   "source": [
    "# Conclusion"
   ]
  },
  {
   "cell_type": "markdown",
   "metadata": {},
   "source": [
    "#### According to accuracy scores, the gradient boosting classifier seems to perform better than the other. \n",
    "#### But, after printing the confusion matrix, we can see that the gradient boosting classifier relatively fails to classify the no-show class labels. It detected only 28 out of 5525.\n",
    "\n",
    "#### Although all the classifier used cannot predict no-show label properly, random forest classifier with 200 estimators looks more promising than the other. accuracy - Random Forest: 77%, Naive bayes: 70%, Logistic regression: 66%. \n",
    "#### (The accuracy of the random forest classifier doesn't increase much on increasing the number estimators.)"
   ]
  }
 ],
 "metadata": {
  "kernelspec": {
   "display_name": "Python 3",
   "language": "python",
   "name": "python3"
  },
  "language_info": {
   "codemirror_mode": {
    "name": "ipython",
    "version": 3
   },
   "file_extension": ".py",
   "mimetype": "text/x-python",
   "name": "python",
   "nbconvert_exporter": "python",
   "pygments_lexer": "ipython3",
   "version": "3.6.5"
  }
 },
 "nbformat": 4,
 "nbformat_minor": 2
}
